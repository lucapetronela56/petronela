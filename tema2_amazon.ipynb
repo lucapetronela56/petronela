{
 "cells": [
  {
   "cell_type": "markdown",
   "metadata": {},
   "source": [
    "# Import numpy as np\n"
   ]
  },
  {
   "cell_type": "code",
   "execution_count": 2,
   "metadata": {},
   "outputs": [],
   "source": [
    "import numpy as np\n"
   ]
  },
  {
   "cell_type": "markdown",
   "metadata": {},
   "source": [
    "# create 10 zeroes"
   ]
  },
  {
   "cell_type": "code",
   "execution_count": 76,
   "metadata": {},
   "outputs": [
    {
     "data": {
      "text/plain": [
       "array([0., 0., 0., 0., 0., 0., 0., 0., 0., 0.])"
      ]
     },
     "execution_count": 76,
     "metadata": {},
     "output_type": "execute_result"
    }
   ],
   "source": [
    "np.zeros(10)"
   ]
  },
  {
   "cell_type": "markdown",
   "metadata": {},
   "source": [
    "# create a vector with values ranging from 10 to 100"
   ]
  },
  {
   "cell_type": "code",
   "execution_count": 14,
   "metadata": {},
   "outputs": [
    {
     "name": "stdout",
     "output_type": "stream",
     "text": [
      "[10 11 12 13 14 15 16 17 18 19 20 21 22 23 24 25 26 27 28 29 30 31 32 33\n",
      " 34 35 36 37 38 39 40 41 42 43 44 45 46 47 48 49 50 51 52 53 54 55 56 57\n",
      " 58 59 60 61 62 63 64 65 66 67 68 69 70 71 72 73 74 75 76 77 78 79 80 81\n",
      " 82 83 84 85 86 87 88 89 90 91 92 93 94 95 96 97 98 99]\n"
     ]
    }
   ],
   "source": [
    "X=np.arange(10,100,1)\n",
    "print(X)"
   ]
  },
  {
   "cell_type": "markdown",
   "metadata": {},
   "source": [
    "# reverse it "
   ]
  },
  {
   "cell_type": "code",
   "execution_count": 16,
   "metadata": {},
   "outputs": [
    {
     "name": "stdout",
     "output_type": "stream",
     "text": [
      "[99 98 97 96 95 94 93 92 91 90 89 88 87 86 85 84 83 82 81 80 79 78 77 76\n",
      " 75 74 73 72 71 70 69 68 67 66 65 64 63 62 61 60 59 58 57 56 55 54 53 52\n",
      " 51 50 49 48 47 46 45 44 43 42 41 40 39 38 37 36 35 34 33 32 31 30 29 28\n",
      " 27 26 25 24 23 22 21 20 19 18 17 16 15 14 13 12 11 10]\n"
     ]
    }
   ],
   "source": [
    "X_reverse=np.flip(X)\n",
    "print(X_reverse)"
   ]
  },
  {
   "cell_type": "markdown",
   "metadata": {},
   "source": [
    "# reshape it to a 3x30"
   ]
  },
  {
   "cell_type": "code",
   "execution_count": 19,
   "metadata": {},
   "outputs": [
    {
     "name": "stdout",
     "output_type": "stream",
     "text": [
      "[[10 11 12 13 14 15 16 17 18 19 20 21 22 23 24 25 26 27 28 29 30 31 32 33\n",
      "  34 35 36 37 38 39]\n",
      " [40 41 42 43 44 45 46 47 48 49 50 51 52 53 54 55 56 57 58 59 60 61 62 63\n",
      "  64 65 66 67 68 69]\n",
      " [70 71 72 73 74 75 76 77 78 79 80 81 82 83 84 85 86 87 88 89 90 91 92 93\n",
      "  94 95 96 97 98 99]]\n"
     ]
    }
   ],
   "source": [
    "X_reshaped = X.reshape(3,30)\n",
    "print(X_reshaped)"
   ]
  },
  {
   "cell_type": "markdown",
   "metadata": {},
   "source": [
    "# Create the vector with elems 1,2,9,0,0,1,4,0. Find indices of non-zero elems"
   ]
  },
  {
   "cell_type": "code",
   "execution_count": 21,
   "metadata": {},
   "outputs": [
    {
     "name": "stdout",
     "output_type": "stream",
     "text": [
      "[1, 2, 9, 0, 0, 1, 4, 0]\n"
     ]
    }
   ],
   "source": [
    "V=[1,2,9,0,0,1,4,0]\n",
    "print(V)\n"
   ]
  },
  {
   "cell_type": "code",
   "execution_count": 28,
   "metadata": {},
   "outputs": [
    {
     "name": "stdout",
     "output_type": "stream",
     "text": [
      "0\n",
      "1\n",
      "2\n",
      "5\n",
      "6\n"
     ]
    }
   ],
   "source": [
    "for i in range(len(V)):\n",
    "    if V[i]!=0:\n",
    "        print(i) \n",
    " "
   ]
  },
  {
   "cell_type": "markdown",
   "metadata": {},
   "source": [
    "# Create a 3x3 identity matrix"
   ]
  },
  {
   "cell_type": "code",
   "execution_count": 58,
   "metadata": {},
   "outputs": [
    {
     "name": "stdout",
     "output_type": "stream",
     "text": [
      "[[1. 0. 0.]\n",
      " [0. 1. 0.]\n",
      " [0. 0. 1.]]\n"
     ]
    }
   ],
   "source": [
    "I = np.identity(3)\n",
    "print(I)"
   ]
  },
  {
   "cell_type": "markdown",
   "metadata": {},
   "source": [
    "# Create a random vector of size 50 with values uniformely distributed in (-1, 1). Find the average of these values"
   ]
  },
  {
   "cell_type": "code",
   "execution_count": 78,
   "metadata": {},
   "outputs": [
    {
     "name": "stdout",
     "output_type": "stream",
     "text": [
      "[ 0.21405996 -0.17787155 -0.47674898 -0.37895133 -0.7678161  -0.04105758\n",
      " -0.05116023  0.0422751  -0.80752116 -0.55750755 -0.06806651  0.3223876\n",
      " -0.66976076 -0.68589793  0.41962385  0.11903482  0.05852541  0.14883777\n",
      " -0.89184127  0.59917503 -0.85832258 -0.5305493   0.70799812  0.96615329\n",
      "  0.45963442 -0.81294031 -0.63110679 -0.26642607  0.30213396 -0.47587957\n",
      "  0.09815009 -0.83300161 -0.88264164  0.98241601  0.79712101  0.29919538\n",
      " -0.71011985 -0.81652836 -0.69776015  0.02850706 -0.8374321  -0.14364398\n",
      " -0.17210854  0.96954482  0.3543005   0.21049933 -0.02052957  0.85908895\n",
      "  0.85413851 -0.87639878]\n"
     ]
    }
   ],
   "source": [
    "vec=np.random.uniform(-1,1,50) \n",
    "print(vec)"
   ]
  },
  {
   "cell_type": "code",
   "execution_count": 79,
   "metadata": {},
   "outputs": [
    {
     "name": "stdout",
     "output_type": "stream",
     "text": [
      "Media:\n",
      "-0.10653578374972726\n"
     ]
    }
   ],
   "source": [
    "s=sum(vec)/len(vec)\n",
    "print('Media:')\n",
    "print(s)"
   ]
  },
  {
   "cell_type": "markdown",
   "metadata": {},
   "source": [
    "# create a 5x5 matrix with 1,2,3,4 just below the 1st diag and 0 in rest\n"
   ]
  },
  {
   "cell_type": "code",
   "execution_count": 50,
   "metadata": {},
   "outputs": [
    {
     "name": "stdout",
     "output_type": "stream",
     "text": [
      "[[0 0 0 0 0 0]\n",
      " [1 0 0 0 0 0]\n",
      " [0 2 0 0 0 0]\n",
      " [0 0 3 0 0 0]\n",
      " [0 0 0 4 0 0]\n",
      " [0 0 0 0 5 0]]\n"
     ]
    }
   ],
   "source": [
    "m=np.diag([1, 2, 3, 4, 5],-1)\n",
    "print(m)"
   ]
  },
  {
   "cell_type": "markdown",
   "metadata": {},
   "source": [
    "# Create a 5x3 matrix and a 3x4 one. Multiply them"
   ]
  },
  {
   "cell_type": "code",
   "execution_count": 62,
   "metadata": {},
   "outputs": [
    {
     "name": "stdout",
     "output_type": "stream",
     "text": [
      "[[108  76  48  22]\n",
      " [  9   8   9  11]\n",
      " [ 19  21  20  26]\n",
      " [  3   1   0  -2]\n",
      " [ 12  11   7   6]]\n"
     ]
    }
   ],
   "source": [
    "#matrici introduse manual\n",
    "A=np.array([[2,34,6],[1,2 ,3],[7 ,5 ,4],[-1,1,0],[3 ,4,0]])\n",
    "B=np.array([[0,1,1,2],[3,2,1,0],[1,1,2,3]])\n",
    "C=np.dot(A,B)\n",
    "print(C)"
   ]
  },
  {
   "cell_type": "code",
   "execution_count": 3,
   "metadata": {},
   "outputs": [
    {
     "name": "stdout",
     "output_type": "stream",
     "text": [
      "[[0.97333325 0.73950454 0.36072124]\n",
      " [0.40987917 0.671722   0.02698721]\n",
      " [0.44942562 0.12947712 0.86886376]\n",
      " [0.9499441  0.38079634 0.42427427]\n",
      " [0.57218622 0.5958195  0.65807252]]\n",
      "[[0.73958122 0.61706939 0.39214282 0.56920951]\n",
      " [0.20529622 0.54409803 0.08484327 0.99646054]\n",
      " [0.45134073 0.0149806  0.50097023 0.02623501]]\n",
      "[[1.03448467 1.00838094 0.62513822 1.30038115]\n",
      " [0.45322135 0.61881079 0.23124205 0.9033596 ]\n",
      " [0.75112152 0.36079114 0.62249917 0.40763082]\n",
      " [0.97222913 0.79972785 0.61737054 0.93129658]\n",
      " [0.8425126  0.68712114 0.60460473 0.93666899]]\n"
     ]
    },
    {
     "data": {
      "text/plain": [
       "(None, None, None)"
      ]
     },
     "execution_count": 3,
     "metadata": {},
     "output_type": "execute_result"
    }
   ],
   "source": [
    "#matrici random\n",
    "A1=np.random.rand(5,3)\n",
    "B1=np.random.rand(3,4)\n",
    "C1=np.dot(A1,B1)\n",
    "print(A1) ,print(B1), print(C1)"
   ]
  },
  {
   "cell_type": "markdown",
   "metadata": {},
   "source": [
    "# Using the previous matrix, extract a new one with just the integer part of the values. Find at least 4 methods of doing this. "
   ]
  },
  {
   "cell_type": "code",
   "execution_count": 6,
   "metadata": {},
   "outputs": [
    {
     "name": "stdout",
     "output_type": "stream",
     "text": [
      "[[1. 1. 0. 1.]\n",
      " [0. 0. 0. 0.]\n",
      " [0. 0. 0. 0.]\n",
      " [0. 0. 0. 0.]\n",
      " [0. 0. 0. 0.]]\n",
      "[[1 1 0 1]\n",
      " [0 0 0 0]\n",
      " [0 0 0 0]\n",
      " [0 0 0 0]\n",
      " [0 0 0 0]]\n",
      "[[1. 1. 0. 1.]\n",
      " [0. 0. 0. 0.]\n",
      " [0. 0. 0. 0.]\n",
      " [0. 0. 0. 0.]\n",
      " [0. 0. 0. 0.]]\n"
     ]
    }
   ],
   "source": [
    "#metoda 1\n",
    "new_C1=np.trunc(C1)\n",
    "print(new_C1)\n",
    "#metoda2\n",
    "print (C1.astype(int))\n",
    "#metoda3\n",
    "print (np.floor(C1))"
   ]
  },
  {
   "cell_type": "markdown",
   "metadata": {},
   "source": [
    "# Create a random vector of size 25. Sort it."
   ]
  },
  {
   "cell_type": "code",
   "execution_count": 30,
   "metadata": {},
   "outputs": [
    {
     "name": "stdout",
     "output_type": "stream",
     "text": [
      "[0.97290576 0.47148112 0.21234558 0.53275293 0.5434479  0.02207675\n",
      " 0.74771685 0.78845968 0.57366479 0.96372759 0.61899146 0.8309703\n",
      " 0.41401013 0.56999796 0.53092944 0.3174894  0.65895376 0.34147723\n",
      " 0.06803108 0.77943066 0.03577856 0.21496383 0.03426674 0.97427544\n",
      " 0.12969854]\n",
      "Vectorul sortat este:\n",
      "[0.02207675 0.03426674 0.03577856 0.06803108 0.12969854 0.21234558\n",
      " 0.21496383 0.3174894  0.34147723 0.41401013 0.47148112 0.53092944\n",
      " 0.53275293 0.5434479  0.56999796 0.57366479 0.61899146 0.65895376\n",
      " 0.74771685 0.77943066 0.78845968 0.8309703  0.96372759 0.97290576\n",
      " 0.97427544]\n"
     ]
    }
   ],
   "source": [
    "vector=np.random.random(25)\n",
    "print(vector)\n",
    "vector.sort()\n",
    "print('Vectorul sortat este:')\n",
    "print(vector)"
   ]
  },
  {
   "cell_type": "markdown",
   "metadata": {},
   "source": [
    "# Create a random 7x2 matrix representing 7 2D points. Convert them to polar coordinates."
   ]
  },
  {
   "cell_type": "code",
   "execution_count": 32,
   "metadata": {},
   "outputs": [
    {
     "name": "stdout",
     "output_type": "stream",
     "text": [
      "[[0.33327337 0.95522321]\n",
      " [0.09507437 0.85580185]\n",
      " [0.47580737 0.65054882]\n",
      " [0.10384652 0.64977752]\n",
      " [0.4239249  0.56775746]\n",
      " [0.15409503 0.82079026]\n",
      " [0.7888413  0.17313141]]\n"
     ]
    }
   ],
   "source": [
    "matrix=np.random.rand(7,2)\n",
    "print(matrix)"
   ]
  },
  {
   "cell_type": "code",
   "execution_count": 75,
   "metadata": {},
   "outputs": [
    {
     "name": "stdout",
     "output_type": "stream",
     "text": [
      "[0.33327337 0.09507437 0.47580737 0.10384652 0.4239249  0.15409503\n",
      " 0.7888413 ]\n",
      "[0.95522321 0.85580185 0.65054882 0.64977752 0.56775746 0.82079026\n",
      " 0.17313141]\n"
     ]
    },
    {
     "data": {
      "text/plain": [
       "(array([1.01169289, 0.86106674, 0.80598165, 0.6580235 , 0.70856253,\n",
       "        0.83512989, 0.80761692]),\n",
       " array([1.23510554, 1.4601561 , 0.93930991, 1.41231796, 0.92943273,\n",
       "        1.38521669, 0.21605005]))"
      ]
     },
     "execution_count": 75,
     "metadata": {},
     "output_type": "execute_result"
    }
   ],
   "source": [
    "x=matrix[:,0]\n",
    "y=matrix[:,1]\n",
    "print(x)\n",
    "print(y)\n",
    "def cart2pol(x, y):\n",
    "    r= np.sqrt(x**2 + y**2)\n",
    "    theta = np.arctan2(y, x)\n",
    "    return(r, theta)\n",
    "cart2pol(x,y)"
   ]
  },
  {
   "cell_type": "markdown",
   "metadata": {},
   "source": [
    "# Generate a 10x10 matrix. Generate a single random number. Find the number in the matrix closest to it."
   ]
  },
  {
   "cell_type": "code",
   "execution_count": 40,
   "metadata": {},
   "outputs": [
    {
     "name": "stdout",
     "output_type": "stream",
     "text": [
      "0.5495098641927197\n",
      "[[0.50951916 0.7873122  0.89276359 0.59709182 0.61974496 0.69177944\n",
      "  0.8930212  0.6809575  0.55105902 0.62286177]\n",
      " [0.52128989 0.80489078 0.93421279 0.75144276 0.51509591 0.40934143\n",
      "  0.94934268 0.43957718 0.38594624 0.61510298]\n",
      " [0.85371066 0.17678436 0.98149093 0.21851814 0.08896517 0.55709215\n",
      "  0.93640111 0.4346267  0.10232756 0.39993761]\n",
      " [0.62822565 0.16401803 0.58041402 0.60031318 0.98635575 0.06240728\n",
      "  0.44732129 0.00564179 0.34497143 0.54049208]\n",
      " [0.6377099  0.64772981 0.59129735 0.74764132 0.04389658 0.47023467\n",
      "  0.68046822 0.33579185 0.79255811 0.32623277]\n",
      " [0.13293489 0.48918193 0.03488129 0.63471392 0.80263404 0.3517742\n",
      "  0.37532449 0.84285904 0.16073427 0.81544589]\n",
      " [0.69373018 0.15364442 0.39007902 0.1929802  0.95628811 0.9912914\n",
      "  0.53933601 0.90149585 0.21755263 0.0977982 ]\n",
      " [0.87846653 0.65777397 0.56181118 0.15377216 0.26349387 0.96527569\n",
      "  0.87197358 0.52215287 0.51839743 0.52210843]\n",
      " [0.60812037 0.46713009 0.07826059 0.79923076 0.78846797 0.02140973\n",
      "  0.4148198  0.433184   0.68425284 0.19630875]\n",
      " [0.54198148 0.00334348 0.78506728 0.12763179 0.8065324  0.86982432\n",
      "  0.41375822 0.24391838 0.55364495 0.90823018]]\n"
     ]
    }
   ],
   "source": [
    "M=np.random.rand(10,10)\n",
    "n=np.random.random()\n",
    "print(n)\n",
    "print(M)"
   ]
  },
  {
   "cell_type": "code",
   "execution_count": null,
   "metadata": {},
   "outputs": [],
   "source": []
  },
  {
   "cell_type": "code",
   "execution_count": 68,
   "metadata": {},
   "outputs": [
    {
     "name": "stdout",
     "output_type": "stream",
     "text": [
      "[[0.50951916]\n",
      " [0.7873122 ]\n",
      " [0.89276359]\n",
      " [0.59709182]\n",
      " [0.61974496]\n",
      " [0.69177944]\n",
      " [0.8930212 ]\n",
      " [0.6809575 ]\n",
      " [0.55105902]\n",
      " [0.62286177]\n",
      " [0.52128989]\n",
      " [0.80489078]\n",
      " [0.93421279]\n",
      " [0.75144276]\n",
      " [0.51509591]\n",
      " [0.40934143]\n",
      " [0.94934268]\n",
      " [0.43957718]\n",
      " [0.38594624]\n",
      " [0.61510298]\n",
      " [0.85371066]\n",
      " [0.17678436]\n",
      " [0.98149093]\n",
      " [0.21851814]\n",
      " [0.08896517]\n",
      " [0.55709215]\n",
      " [0.93640111]\n",
      " [0.4346267 ]\n",
      " [0.10232756]\n",
      " [0.39993761]\n",
      " [0.62822565]\n",
      " [0.16401803]\n",
      " [0.58041402]\n",
      " [0.60031318]\n",
      " [0.98635575]\n",
      " [0.06240728]\n",
      " [0.44732129]\n",
      " [0.00564179]\n",
      " [0.34497143]\n",
      " [0.54049208]\n",
      " [0.6377099 ]\n",
      " [0.64772981]\n",
      " [0.59129735]\n",
      " [0.74764132]\n",
      " [0.04389658]\n",
      " [0.47023467]\n",
      " [0.68046822]\n",
      " [0.33579185]\n",
      " [0.79255811]\n",
      " [0.32623277]\n",
      " [0.13293489]\n",
      " [0.48918193]\n",
      " [0.03488129]\n",
      " [0.63471392]\n",
      " [0.80263404]\n",
      " [0.3517742 ]\n",
      " [0.37532449]\n",
      " [0.84285904]\n",
      " [0.16073427]\n",
      " [0.81544589]\n",
      " [0.69373018]\n",
      " [0.15364442]\n",
      " [0.39007902]\n",
      " [0.1929802 ]\n",
      " [0.95628811]\n",
      " [0.9912914 ]\n",
      " [0.53933601]\n",
      " [0.90149585]\n",
      " [0.21755263]\n",
      " [0.0977982 ]\n",
      " [0.87846653]\n",
      " [0.65777397]\n",
      " [0.56181118]\n",
      " [0.15377216]\n",
      " [0.26349387]\n",
      " [0.96527569]\n",
      " [0.87197358]\n",
      " [0.52215287]\n",
      " [0.51839743]\n",
      " [0.52210843]\n",
      " [0.60812037]\n",
      " [0.46713009]\n",
      " [0.07826059]\n",
      " [0.79923076]\n",
      " [0.78846797]\n",
      " [0.02140973]\n",
      " [0.4148198 ]\n",
      " [0.433184  ]\n",
      " [0.68425284]\n",
      " [0.19630875]\n",
      " [0.54198148]\n",
      " [0.00334348]\n",
      " [0.78506728]\n",
      " [0.12763179]\n",
      " [0.8065324 ]\n",
      " [0.86982432]\n",
      " [0.41375822]\n",
      " [0.24391838]\n",
      " [0.55364495]\n",
      " [0.90823018]]\n",
      "Numarul cel mai apropiat de n:\n",
      "[0.55105902]\n"
     ]
    }
   ],
   "source": [
    "M_new=M.reshape(100,1)\n",
    "print(M_new)\n",
    "nr=min(M_new, key=lambda x:np.abs(x-n))\n",
    "print('Numarul cel mai apropiat de n:')\n",
    "print(nr)"
   ]
  },
  {
   "cell_type": "code",
   "execution_count": null,
   "metadata": {},
   "outputs": [],
   "source": []
  },
  {
   "cell_type": "code",
   "execution_count": null,
   "metadata": {},
   "outputs": [],
   "source": []
  }
 ],
 "metadata": {
  "kernelspec": {
   "display_name": "Python 3",
   "language": "python",
   "name": "python3"
  },
  "language_info": {
   "codemirror_mode": {
    "name": "ipython",
    "version": 3
   },
   "file_extension": ".py",
   "mimetype": "text/x-python",
   "name": "python",
   "nbconvert_exporter": "python",
   "pygments_lexer": "ipython3",
   "version": "3.7.4"
  }
 },
 "nbformat": 4,
 "nbformat_minor": 2
}
