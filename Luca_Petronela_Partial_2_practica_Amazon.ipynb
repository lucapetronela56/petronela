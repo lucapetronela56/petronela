{
 "cells": [
  {
   "cell_type": "markdown",
   "metadata": {
    "colab_type": "text",
    "id": "wsD4Sg0C0R0u"
   },
   "source": [
    "\n",
    "## Subject 2: Text NewsGroup Classification\n",
    "1. Download the newsgroups data set using the code below. \n",
    "2. Construct a text classifier that predicts the target variable (newsgroups.target) from the input data (newsgroups.data).\n",
    "3. We will evaluate your classifier against a hold-out data set, so be sure to construct a classification function that can receive a single string.\n",
    "\n"
   ]
  },
  {
   "cell_type": "code",
   "execution_count": 1,
   "metadata": {
    "colab": {},
    "colab_type": "code",
    "id": "8dmoOzwWSmKw"
   },
   "outputs": [],
   "source": [
    "import functools\n",
    "import matplotlib.pyplot as plt\n",
    "import numpy as np\n",
    "import pandas as pd\n",
    "import os as os\n",
    "import re \n",
    "from nltk.stem.snowball import SnowballStemmer\n",
    "from sklearn.feature_extraction.text import CountVectorizer,TfidfVectorizer\n",
    "from sklearn.preprocessing import LabelEncoder\n",
    "from sklearn.naive_bayes import MultinomialNB\n",
    "from sklearn.linear_model import LogisticRegression\n",
    "from sklearn.svm import LinearSVC\n",
    "from sklearn.model_selection import train_test_split,GridSearchCV\n",
    "from sklearn.metrics import classification_report\n",
    "from sklearn.pipeline import Pipeline\n",
    "from sklearn.datasets import fetch_20newsgroups"
   ]
  },
  {
   "cell_type": "code",
   "execution_count": 2,
   "metadata": {
    "colab": {
     "base_uri": "https://localhost:8080/",
     "height": 88
    },
    "colab_type": "code",
    "id": "KcPJwXGMSmK3",
    "outputId": "72bf92c5-662b-45d3-d6bf-fea1b91bf7ac"
   },
   "outputs": [
    {
     "name": "stderr",
     "output_type": "stream",
     "text": [
      "Downloading 20news dataset. This may take a few minutes.\n",
      "Downloading dataset from https://ndownloader.figshare.com/files/5975967 (14 MB)\n"
     ]
    },
    {
     "name": "stdout",
     "output_type": "stream",
     "text": [
      "[\"From: lerxst@wam.umd.edu (where's my thing)\\nSubject: WHAT car is this!?\\nNntp-Posting-Host: rac3.wam.umd.edu\\nOrganization: University of Maryland, College Park\\nLines: 15\\n\\n I was wondering if anyone out there could enlighten me on this car I saw\\nthe other day. It was a 2-door sports car, looked to be from the late 60s/\\nearly 70s. It was called a Bricklin. The doors were really small. In addition,\\nthe front bumper was separate from the rest of the body. This is \\nall I know. If anyone can tellme a model name, engine specs, years\\nof production, where this car is made, history, or whatever info you\\nhave on this funky looking car, please e-mail.\\n\\nThanks,\\n- IL\\n   ---- brought to you by your neighborhood Lerxst ----\\n\\n\\n\\n\\n\", \"From: guykuo@carson.u.washington.edu (Guy Kuo)\\nSubject: SI Clock Poll - Final Call\\nSummary: Final call for SI clock reports\\nKeywords: SI,acceleration,clock,upgrade\\nArticle-I.D.: shelley.1qvfo9INNc3s\\nOrganization: University of Washington\\nLines: 11\\nNNTP-Posting-Host: carson.u.washington.edu\\n\\nA fair number of brave souls who upgraded their SI clock oscillator have\\nshared their experiences for this poll. Please send a brief message detailing\\nyour experiences with the procedure. Top speed attained, CPU rated speed,\\nadd on cards and adapters, heat sinks, hour of usage per day, floppy disk\\nfunctionality with 800 and 1.4 m floppies are especially requested.\\n\\nI will be summarizing in the next two days, so please add to the network\\nknowledge base if you have done the clock upgrade and haven't answered this\\npoll. Thanks.\\n\\nGuy Kuo <guykuo@u.washington.edu>\\n\", 'From: twillis@ec.ecn.purdue.edu (Thomas E Willis)\\nSubject: PB questions...\\nOrganization: Purdue University Engineering Computer Network\\nDistribution: usa\\nLines: 36\\n\\nwell folks, my mac plus finally gave up the ghost this weekend after\\nstarting life as a 512k way back in 1985.  sooo, i\\'m in the market for a\\nnew machine a bit sooner than i intended to be...\\n\\ni\\'m looking into picking up a powerbook 160 or maybe 180 and have a bunch\\nof questions that (hopefully) somebody can answer:\\n\\n* does anybody know any dirt on when the next round of powerbook\\nintroductions are expected?  i\\'d heard the 185c was supposed to make an\\nappearence \"this summer\" but haven\\'t heard anymore on it - and since i\\ndon\\'t have access to macleak, i was wondering if anybody out there had\\nmore info...\\n\\n* has anybody heard rumors about price drops to the powerbook line like the\\nones the duo\\'s just went through recently?\\n\\n* what\\'s the impression of the display on the 180?  i could probably swing\\na 180 if i got the 80Mb disk rather than the 120, but i don\\'t really have\\na feel for how much \"better\" the display is (yea, it looks great in the\\nstore, but is that all \"wow\" or is it really that good?).  could i solicit\\nsome opinions of people who use the 160 and 180 day-to-day on if its worth\\ntaking the disk size and money hit to get the active display?  (i realize\\nthis is a real subjective question, but i\\'ve only played around with the\\nmachines in a computer store breifly and figured the opinions of somebody\\nwho actually uses the machine daily might prove helpful).\\n\\n* how well does hellcats perform?  ;)\\n\\nthanks a bunch in advance for any info - if you could email, i\\'ll post a\\nsummary (news reading time is at a premium with finals just around the\\ncorner... :( )\\n--\\nTom Willis  \\\\  twillis@ecn.purdue.edu    \\\\    Purdue Electrical Engineering\\n---------------------------------------------------------------------------\\n\"Convictions are more dangerous enemies of truth than lies.\"  - F. W.\\nNietzsche\\n', 'From: jgreen@amber (Joe Green)\\nSubject: Re: Weitek P9000 ?\\nOrganization: Harris Computer Systems Division\\nLines: 14\\nDistribution: world\\nNNTP-Posting-Host: amber.ssd.csd.harris.com\\nX-Newsreader: TIN [version 1.1 PL9]\\n\\nRobert J.C. Kyanko (rob@rjck.UUCP) wrote:\\n> abraxis@iastate.edu writes in article <abraxis.734340159@class1.iastate.edu>:\\n> > Anyone know about the Weitek P9000 graphics chip?\\n> As far as the low-level stuff goes, it looks pretty nice.  It\\'s got this\\n> quadrilateral fill command that requires just the four points.\\n\\nDo you have Weitek\\'s address/phone number?  I\\'d like to get some information\\nabout this chip.\\n\\n--\\nJoe Green\\t\\t\\t\\tHarris Corporation\\njgreen@csd.harris.com\\t\\t\\tComputer Systems Division\\n\"The only thing that really scares me is a person with no sense of humor.\"\\n\\t\\t\\t\\t\\t\\t-- Jonathan Winters\\n', 'From: jcm@head-cfa.harvard.edu (Jonathan McDowell)\\nSubject: Re: Shuttle Launch Question\\nOrganization: Smithsonian Astrophysical Observatory, Cambridge, MA,  USA\\nDistribution: sci\\nLines: 23\\n\\nFrom article <C5owCB.n3p@world.std.com>, by tombaker@world.std.com (Tom A Baker):\\n>>In article <C5JLwx.4H9.1@cs.cmu.edu>, ETRAT@ttacs1.ttu.edu (Pack Rat) writes...\\n>>>\"Clear caution & warning memory.  Verify no unexpected\\n>>>errors. ...\".  I am wondering what an \"expected error\" might\\n>>>be.  Sorry if this is a really dumb question, but\\n> \\n> Parity errors in memory or previously known conditions that were waivered.\\n>    \"Yes that is an error, but we already knew about it\"\\n> I\\'d be curious as to what the real meaning of the quote is.\\n> \\n> tom\\n\\n\\nMy understanding is that the \\'expected errors\\' are basically\\nknown bugs in the warning system software - things are checked\\nthat don\\'t have the right values in yet because they aren\\'t\\nset till after launch, and suchlike. Rather than fix the code\\nand possibly introduce new bugs, they just tell the crew\\n\\'ok, if you see a warning no. 213 before liftoff, ignore it\\'.\\n\\n - Jonathan\\n\\n\\n', 'From: dfo@vttoulu.tko.vtt.fi (Foxvog Douglas)\\nSubject: Re: Rewording the Second Amendment (ideas)\\nOrganization: VTT\\nLines: 58\\n\\nIn article <1r1eu1$4t@transfer.stratus.com> cdt@sw.stratus.com (C. D. Tavares) writes:\\n>In article <1993Apr20.083057.16899@ousrvr.oulu.fi>, dfo@vttoulu.tko.vtt.fi (Foxvog Douglas) writes:\\n>> In article <1qv87v$4j3@transfer.stratus.com> cdt@sw.stratus.com (C. D. Tavares) writes:\\n>> >In article <C5n3GI.F8F@ulowell.ulowell.edu>, jrutledg@cs.ulowell.edu (John Lawrence Rutledge) writes:\\n>\\n>> >> The massive destructive power of many modern weapons, makes the\\n>> >> cost of an accidental or crimial usage of these weapons to great.\\n>> >> The weapons of mass destruction need to be in the control of\\n>> >> the government only.  Individual access would result in the\\n>> >> needless deaths of millions.  This makes the right of the people\\n>> >> to keep and bear many modern weapons non-existant.\\n\\n>> >Thanks for stating where you\\'re coming from.  Needless to say, I\\n>> >disagree on every count.\\n\\n>> You believe that individuals should have the right to own weapons of\\n>> mass destruction?  I find it hard to believe that you would support a \\n>> neighbor\\'s right to keep nuclear weapons, biological weapons, and nerve\\n>> gas on his/her property.  \\n\\n>> If we cannot even agree on keeping weapons of mass destruction out of\\n>> the hands of individuals, can there be any hope for us?\\n\\n>I don\\'t sign any blank checks.\\n\\nOf course.  The term must be rigidly defined in any bill.\\n\\n>When Doug Foxvog says \"weapons of mass destruction,\" he means CBW and\\n>nukes.  When Sarah Brady says \"weapons of mass destruction\" she means\\n>Street Sweeper shotguns and semi-automatic SKS rifles.  \\n\\nI doubt she uses this term for that.  You are using a quote allegedly\\nfrom her, can you back it up?\\n\\n>When John\\n>Lawrence Rutledge says \"weapons of mass destruction,\" and then immediately\\n>follows it with:\\n\\n>>> The US has thousands of people killed each year by handguns,\\n>>> this number can easily be reduced by putting reasonable restrictions\\n>>> on them.\\n\\n>...what does Rutledge mean by the term?\\n\\nI read the article as presenting first an argument about weapons of mass\\ndestruction (as commonly understood) and then switching to other topics.\\nThe first point evidently was to show that not all weapons should be\\nallowed, and then the later analysis was, given this understanding, to\\nconsider another class.\\n\\n>cdt@rocket.sw.stratus.com   --If you believe that I speak for my company,\\n>OR cdt@vos.stratus.com        write today for my special Investors\\' Packet...\\n\\n\\n\\n-- \\ndoug foxvog\\ndouglas.foxvog@vtt.fi\\n', 'From: bmdelane@quads.uchicago.edu (brian manning delaney)\\nSubject: Brain Tumor Treatment (thanks)\\nReply-To: bmdelane@midway.uchicago.edu\\nOrganization: University of Chicago\\nLines: 12\\n\\nThere were a few people who responded to my request for info on\\ntreatment for astrocytomas through email, whom I couldn\\'t thank\\ndirectly because of mail-bouncing probs (Sean, Debra, and Sharon).  So\\nI thought I\\'d publicly thank everyone.\\n\\nThanks! \\n\\n(I\\'m sure glad I accidentally hit \"rn\" instead of \"rm\" when I was\\ntrying to delete a file last September. \"Hmmm... \\'News?\\' What\\'s\\nthis?\"....)\\n\\n-Brian\\n', 'From: bgrubb@dante.nmsu.edu (GRUBB)\\nSubject: Re: IDE vs SCSI\\nOrganization: New Mexico State University, Las Cruces, NM\\nLines: 44\\nDistribution: world\\nNNTP-Posting-Host: dante.nmsu.edu\\n\\nDXB132@psuvm.psu.edu writes:\\n>In article <1qlbrlINN7rk@dns1.NMSU.Edu>, bgrubb@dante.nmsu.edu (GRUBB) says:\\n>>In PC Magazine April 27, 1993:29 \"Although SCSI is twice as fasst as ESDI,\\n>>20% faster than IDE, and support up to 7 devices its acceptance ...has   \\n>>long been stalled by incompatability problems and installation headaches.\"\\n                                                                      \\n>I love it when magazine writers make stupid statements like that re:      \\n>performance. Where do they get those numbers? I\\'ll list the actual\\n>performance ranges, which should convince anyone that such a               \\n>statement is absurd:                                                     \\n>SCSI-I ranges from 0-5MB/s.                                                \\n>SCSI-II ranges from 0-40MB/s.            \\n>IDE ranges from 0-8.3MB/s.                          \\n>ESDI is always 1.25MB/s (although there are some non-standard versions)\\nALL this shows is that YOU don\\'t know much about SCSI.\\n\\nSCSI-1 {with a SCSI-1 controler chip} range is indeed 0-5MB/s\\nand that is ALL you have right about SCSI\\nSCSI-1 {With a SCSI-2 controller chip}: 4-6MB/s with 10MB/s burst {8-bit}\\n Note the INCREASE in SPEED, the Mac Quadra uses this version of SCSI-1\\n so it DOES exist. Some PC use this set up too.\\nSCSI-2 {8-bit/SCSI-1 mode}:          4-6MB/s with 10MB/s burst\\nSCSI-2 {16-bit/wide or fast mode}:  8-12MB/s with 20MB/s burst\\nSCSI-2 {32-bit/wide AND fast}:     15-20MB/s with 40MB/s burst\\n \\nBy your OWN data the \"Although SCSI is twice as fast as ESDI\" is correct\\nWith a SCSI-2 controller chip SCSI-1 can reach 10MB/s which is indeed\\n\"20% faster than IDE\" {120% of 8.3 is 9.96}. ALL these SCSI facts have been\\nposted to this newsgroup in my Mac & IBM info sheet {available by FTP on \\nsumex-aim.stanford.edu (36.44.0.6) in the info-mac/report as \\nmac-ibm-compare[version #].txt (It should be 173 but 161 may still be there)}\\n\\nPart of this problem is both Mac and IBM PC are inconsiant about what SCSI\\nis which.  Though it is WELL documented that the Quadra has a SCSI-2 chip\\nan Apple salesperson said \"it uses a fast SCSI-1 chip\" {Not at a 6MB/s,\\n10MB/s burst it does not. SCSI-1 is 5MB/s maximum synchronous and Quadra\\nuses ANsynchronous SCSI which is SLOWER}  It seems that Mac and IBM see\\nSCSI-1 interface and think \\'SCSI-1\\' when it maybe a SCSI-1 interface driven\\nin the machine by a SCSi-2 controller chip in 8-bit mode {Which is MUCH\\nFASTER then true SCSI-1 can go}.\\n\\nDon\\'t slam an article because you don\\'t understand what is going on.\\nOne reference for the Quadra\\'s SCSI-2 controller chip is \\n(Digital Review, Oct 21, 1991 v8 n33 p8(1)).\\n', 'From: holmes7000@iscsvax.uni.edu\\nSubject: WIn 3.0 ICON HELP PLEASE!\\nOrganization: University of Northern Iowa\\nLines: 10\\n\\nI have win 3.0 and downloaded several icons and BMP\\'s but I can\\'t figure out\\nhow to change the \"wallpaper\" or use the icons.  Any help would be appreciated.\\n\\n\\nThanx,\\n\\n-Brando\\n\\nPS Please E-mail me\\n\\n']\n",
      "['alt.atheism', 'comp.graphics', 'comp.os.ms-windows.misc', 'comp.sys.ibm.pc.hardware', 'comp.sys.mac.hardware', 'comp.windows.x', 'misc.forsale', 'rec.autos', 'rec.motorcycles', 'rec.sport.baseball', 'rec.sport.hockey', 'sci.crypt', 'sci.electronics', 'sci.med', 'sci.space', 'soc.religion.christian', 'talk.politics.guns', 'talk.politics.mideast', 'talk.politics.misc', 'talk.religion.misc']\n",
      "[ 6 13 15 ...  5 11 12]\n"
     ]
    }
   ],
   "source": [
    "#Download the newsgroups data\n",
    "#It consists of different articles\n",
    "\n",
    "\n",
    "def get_news_dataset():\n",
    "\n",
    "  newsgroups_train = fetch_20newsgroups(subset='train')\n",
    "  newsgroups_test = fetch_20newsgroups(subset='test')\n",
    "  print(newsgroups_train.data[:9])\n",
    "\n",
    "  X = newsgroups_train.data+newsgroups_test.data\n",
    "  y = np.concatenate([newsgroups_train.target,newsgroups_test.target])\n",
    "  print(newsgroups_train.target_names)\n",
    "  newsgroups_train.target[:9]\n",
    "\n",
    "  #dublam numarul de valori pentru am vazut ca unele tipuri de articole apar doar o singura data,\n",
    "  #si vom avea erori daca vom incerca sa generam o regresie liniara( trebuie minim doua tipuri de articole de acelasi target)\n",
    "  X=X+X\n",
    "  y = np.concatenate([y,y])\n",
    "  \n",
    "  #we'll use some more data for training than it is customary :)\n",
    "  #it's a hard problem\n",
    "  return train_test_split(X,y,test_size=0.2,random_state=7)\n",
    "\n",
    "\n",
    "\n",
    "train_text,test_text,train_target,test_target = get_news_dataset()\n",
    "print(test_target)\n"
   ]
  },
  {
   "cell_type": "code",
   "execution_count": null,
   "metadata": {
    "colab": {},
    "colab_type": "code",
    "id": "WVASmXTnerB8"
   },
   "outputs": [],
   "source": []
  },
  {
   "cell_type": "code",
   "execution_count": 3,
   "metadata": {
    "colab": {},
    "colab_type": "code",
    "id": "i_xdLKxhSmK6"
   },
   "outputs": [],
   "source": [
    "#Define the preprocessing functions\n",
    "\n",
    "html_detector = re.compile('<.*?>',flags=re.UNICODE)\n",
    "punctuation_detector = re.compile('[\\W_ ]',flags=re.UNICODE)  #keep spaces and alpanumeric characters\n",
    "\n",
    "def drop_html(texts):\n",
    "  return [re.sub(html_detector,' ',text) for text in texts]\n",
    "\n",
    "def to_lowercase(texts):\n",
    "  return [text.lower() for text in texts]\n",
    "\n",
    "def drop_punctuation(texts):\n",
    "  return [re.sub(punctuation_detector,' ',text) for text in texts]\n",
    "\n",
    "def tokenize(texts):\n",
    "  #here one can get smarter (e.g. wordpiece tokenizer)\n",
    "  #we'll tokenize based on just the whitespace\n",
    "  return [text.split(\" \") for text in texts]\n",
    "\n",
    "def drop_whitespaces(texts):\n",
    "  #assume that the texts are already tokenized\n",
    "  return [[word for word in text if not word.isspace() and len(word)>0 ] for text in texts]\n",
    "\n",
    "stemmer = SnowballStemmer('english')\n",
    "def stem(texts):\n",
    "  #assume that the texts are already tokenized\n",
    "  return [[stemmer.stem(word) for word in text] for text in texts]\n",
    "\n",
    "def identity(x):\n",
    "  return x\n",
    "\n",
    "def compose(functions):\n",
    "    return functools.reduce(lambda f, g: lambda x: f(g(x)), functions, lambda x: x)\n",
    "\n",
    "def get_preprocessing_pipeline():\n",
    "  steps = [stem,drop_whitespaces,tokenize,to_lowercase,drop_punctuation,drop_html]\n",
    "  return compose(steps)"
   ]
  },
  {
   "cell_type": "code",
   "execution_count": 4,
   "metadata": {
    "colab": {},
    "colab_type": "code",
    "id": "4fuSUWiKSmK9"
   },
   "outputs": [],
   "source": [
    "#perform the preprocessing\n",
    "#it takes quite some time, but we'll do it just once\n",
    "\n",
    "preprocessing_pipeline = get_preprocessing_pipeline()\n",
    "preprocessed_train = preprocessing_pipeline(train_text)\n",
    "preprocessed_test = preprocessing_pipeline(test_text)"
   ]
  },
  {
   "cell_type": "code",
   "execution_count": 5,
   "metadata": {
    "colab": {
     "base_uri": "https://localhost:8080/",
     "height": 34
    },
    "colab_type": "code",
    "id": "MQDY2AzKSmLA",
    "outputId": "f056f6c7-14fb-40f0-f7e3-fa7a82392ba9"
   },
   "outputs": [
    {
     "name": "stdout",
     "output_type": "stream",
     "text": [
      "[ 6 13 15  2  2 18 12 10 15 11]\n"
     ]
    }
   ],
   "source": [
    "#encode the sentiments of the reviews\n",
    "\n",
    "label_encoder = LabelEncoder()\n",
    "y_train = label_encoder.fit_transform(train_target)\n",
    "y_test = label_encoder.transform(test_target)\n",
    "print(test_target[:10])"
   ]
  },
  {
   "cell_type": "code",
   "execution_count": 36,
   "metadata": {
    "colab": {
     "base_uri": "https://localhost:8080/",
     "height": 612
    },
    "colab_type": "code",
    "id": "-LQt8OrrSmLD",
    "outputId": "cb9fd2a9-6c31-400f-edcb-2db2b2dbd13d"
   },
   "outputs": [
    {
     "name": "stdout",
     "output_type": "stream",
     "text": [
      "              precision    recall  f1-score   support\n",
      "\n",
      "           0       0.97      0.94      0.95       311\n",
      "           1       0.92      0.96      0.94       407\n",
      "           2       0.93      0.95      0.94       383\n",
      "           3       0.90      0.93      0.91       373\n",
      "           4       0.95      0.96      0.96       416\n",
      "           5       0.97      0.95      0.96       391\n",
      "           6       0.89      0.92      0.91       412\n",
      "           7       0.97      0.95      0.96       399\n",
      "           8       0.99      0.98      0.98       375\n",
      "           9       0.99      0.98      0.99       394\n",
      "          10       0.99      1.00      1.00       420\n",
      "          11       0.98      0.96      0.97       390\n",
      "          12       0.95      0.95      0.95       409\n",
      "          13       0.99      0.98      0.98       413\n",
      "          14       0.97      0.99      0.98       390\n",
      "          15       0.96      0.98      0.97       380\n",
      "          16       0.98      0.98      0.98       361\n",
      "          17       1.00      0.99      0.99       397\n",
      "          18       0.99      0.96      0.97       290\n",
      "          19       0.94      0.89      0.91       228\n",
      "\n",
      "    accuracy                           0.96      7539\n",
      "   macro avg       0.96      0.96      0.96      7539\n",
      "weighted avg       0.96      0.96      0.96      7539\n",
      "\n"
     ]
    },
    {
     "name": "stderr",
     "output_type": "stream",
     "text": [
      "/usr/local/lib/python3.6/dist-packages/sklearn/linear_model/_logistic.py:940: ConvergenceWarning: lbfgs failed to converge (status=1):\n",
      "STOP: TOTAL NO. of ITERATIONS REACHED LIMIT.\n",
      "\n",
      "Increase the number of iterations (max_iter) or scale the data as shown in:\n",
      "    https://scikit-learn.org/stable/modules/preprocessing.html\n",
      "Please also refer to the documentation for alternative solver options:\n",
      "    https://scikit-learn.org/stable/modules/linear_model.html#logistic-regression\n",
      "  extra_warning_msg=_LOGISTIC_SOLVER_CONVERGENCE_MSG)\n"
     ]
    }
   ],
   "source": [
    "#let's get a baseline\n",
    "#we'll see if we can improve performance\n",
    "\n",
    "vectorizer = TfidfVectorizer()\n",
    "X_train = vectorizer.fit_transform(train_text)\n",
    "X_test = vectorizer.transform(test_text)\n",
    "\n",
    "classifier = LogisticRegression().fit(X_train,y_train,1)\n",
    "print(classification_report(y_test,classifier.predict(X_test)))"
   ]
  },
  {
   "cell_type": "code",
   "execution_count": 6,
   "metadata": {
    "colab": {
     "base_uri": "https://localhost:8080/",
     "height": 612
    },
    "colab_type": "code",
    "id": "w2I2kzXSSmLG",
    "outputId": "434261ea-5029-495a-cc64-38cf63e95814"
   },
   "outputs": [
    {
     "name": "stderr",
     "output_type": "stream",
     "text": [
      "C:\\Users\\bledig\\Anaconda3\\lib\\site-packages\\sklearn\\linear_model\\logistic.py:432: FutureWarning: Default solver will be changed to 'lbfgs' in 0.22. Specify a solver to silence this warning.\n",
      "  FutureWarning)\n",
      "C:\\Users\\bledig\\Anaconda3\\lib\\site-packages\\sklearn\\linear_model\\logistic.py:469: FutureWarning: Default multi_class will be changed to 'auto' in 0.22. Specify the multi_class option to silence this warning.\n",
      "  \"this warning.\", FutureWarning)\n"
     ]
    },
    {
     "name": "stdout",
     "output_type": "stream",
     "text": [
      "              precision    recall  f1-score   support\n",
      "\n",
      "           0       0.96      0.91      0.93       311\n",
      "           1       0.91      0.94      0.92       407\n",
      "           2       0.92      0.95      0.93       383\n",
      "           3       0.87      0.90      0.88       373\n",
      "           4       0.95      0.94      0.95       416\n",
      "           5       0.98      0.95      0.96       391\n",
      "           6       0.88      0.92      0.90       412\n",
      "           7       0.97      0.95      0.96       399\n",
      "           8       0.98      0.98      0.98       375\n",
      "           9       0.99      0.98      0.98       394\n",
      "          10       0.98      1.00      0.99       420\n",
      "          11       0.97      0.97      0.97       390\n",
      "          12       0.94      0.94      0.94       409\n",
      "          13       0.99      0.98      0.98       413\n",
      "          14       0.97      0.98      0.98       390\n",
      "          15       0.92      0.98      0.95       380\n",
      "          16       0.96      0.97      0.97       361\n",
      "          17       1.00      0.98      0.99       397\n",
      "          18       0.96      0.94      0.95       290\n",
      "          19       0.92      0.78      0.84       228\n",
      "\n",
      "    accuracy                           0.95      7539\n",
      "   macro avg       0.95      0.95      0.95      7539\n",
      "weighted avg       0.95      0.95      0.95      7539\n",
      "\n"
     ]
    }
   ],
   "source": [
    "#what if we use the preprocessed text\n",
    "\n",
    "vectorizer = TfidfVectorizer(tokenizer=identity,preprocessor=identity)\n",
    "X_train = vectorizer.fit_transform(preprocessed_train)\n",
    "X_test = vectorizer.transform(preprocessed_test)\n",
    "\n",
    "classifier = LogisticRegression().fit(X_train,y_train)\n",
    "print(classification_report(y_test,classifier.predict(X_test)))"
   ]
  },
  {
   "cell_type": "code",
   "execution_count": null,
   "metadata": {
    "colab": {
     "base_uri": "https://localhost:8080/",
     "height": 1000
    },
    "colab_type": "code",
    "id": "InV_OcuPSmLI",
    "outputId": "a110d0ee-1ebc-415e-8e5b-eb232003b51a"
   },
   "outputs": [],
   "source": [
    "# what happens if we do hyperparameter optimization?\n",
    "# for hyperparamater search across multiple models see http://www.davidsbatista.net/blog/2018/02/23/model_optimization/\n",
    "# we will assume our model is TfIdf + LogisticRegression and try to get best hyperparameters for it\n",
    "# note that we could also search through preprocessing configurations\n",
    "# Go ahead and try using CountVectorizer , LinearSVC, Multinomial Naive Bayes\n",
    "# NLTK is an extensive python library for language processing; explore it\n",
    "\n",
    "pipeline = Pipeline(steps=[\n",
    "    ('tf_idf',TfidfVectorizer()),\n",
    "    ('lr',LogisticRegression())\n",
    "])\n",
    "\n",
    "param_grid = {\n",
    "    'tf_idf__max_features': [10000],\n",
    "    'tf_idf__ngram_range': [(1,1),(1,2)],\n",
    "    'tf_idf__preprocessor':[identity], #we did our own preprocessing and tokenizing\n",
    "    'tf_idf__tokenizer':[identity],    #we ask tf-idf to not do anything in this regard\n",
    "    'lr__C': [0.1,1]\n",
    "}\n",
    "\n",
    "best_clf = GridSearchCV(pipeline, param_grid, cv=2,scoring='accuracy') #should use something like cv ~=10\n",
    "best_clf = best_clf.fit(preprocessed_train,y_train)\n",
    "\n",
    "print(classification_report(y_test,best_clf.predict(preprocessed_test)))"
   ]
  },
  {
   "cell_type": "markdown",
   "metadata": {
    "colab_type": "text",
    "id": "PaLGC4T600mA"
   },
   "source": [
    "Dupa cum am observat, prima metoda(LogisticRegression), a dat cele mai bune aproximari"
   ]
  },
  {
   "cell_type": "markdown",
   "metadata": {
    "colab_type": "text",
    "id": "aRgTPuW20mSa"
   },
   "source": [
    "## Subject 1: MNIST Clustering\n",
    "\n",
    "1. Download the MNIST data set using the code below.\n",
    "2. Ignoring the label normally associated to the dataset, construct a clustering of the data. Your clustering should maximize the v-score measure relative to true data labels (\n",
    "    Paper describing the measure: https://www.aclweb.org/anthology/D07-1043.pdf\n",
    "    Implementation available in python: https://scikit learn.org/stable/modules/generated/sklearn.metrics.v_measure_score.html#sklearn.metrics.v_measure_score\n",
    "). Note that failing to ignore the labels during training will void your score for this subject.\n",
    "\n",
    "*Also printed the silhouette value for a point is a measure of how similar that point is to points in its own cluster, when compared to points in other clusters."
   ]
  },
  {
   "cell_type": "code",
   "execution_count": null,
   "metadata": {
    "colab": {
     "base_uri": "https://localhost:8080/",
     "height": 1000
    },
    "colab_type": "code",
    "id": "K-aBHpAf1Hkp",
    "outputId": "1dd19258-2fa6-48c4-9cf9-b28678490f1c"
   },
   "outputs": [
    {
     "name": "stdout",
     "output_type": "stream",
     "text": [
      "[[0. 0. 0. ... 0. 0. 0.]\n",
      " [0. 0. 0. ... 0. 0. 0.]\n",
      " [0. 0. 0. ... 0. 0. 0.]\n",
      " ...\n",
      " [0. 0. 0. ... 0. 0. 0.]\n",
      " [0. 0. 0. ... 0. 0. 0.]\n",
      " [0. 0. 0. ... 0. 0. 0.]]\n",
      "['5' '0' '4' ... '4' '5' '6']\n"
     ]
    },
    {
     "data": {
      "image/png": "[encoded data removed]",
      "text/plain": [
       "<Figure size 432x288 with 1 Axes>"
      ]
     },
     "metadata": {
      "needs_background": "light"
     },
     "output_type": "display_data"
    },
    {
     "name": "stdout",
     "output_type": "stream",
     "text": [
      "For n_clusters = 2 The average silhouette_score is : 0.08705025365093069\n",
      "For n_clusters = 3 The average silhouette_score is : 0.054225671220494584\n",
      "For n_clusters = 4 The average silhouette_score is : 0.06045907810451576\n",
      "For n_clusters = 5 The average silhouette_score is : 0.06696012337809015\n",
      "For n_clusters = 6 The average silhouette_score is : 0.06539732851014843\n",
      "For n_clusters = 7 The average silhouette_score is : 0.06664587777060102\n",
      "For n_clusters = 8 The average silhouette_score is : 0.07337929746295425\n",
      "For n_clusters = 10 The average silhouette_score is : 0.055889444235506874\n"
     ]
    }
   ],
   "source": [
    "from sklearn.datasets import make_blobs\n",
    "from sklearn.cluster import KMeans\n",
    "from sklearn.metrics import silhouette_samples, silhouette_score\n",
    "from sklearn.metrics.cluster import v_measure_score\n",
    "from matplotlib.cm import binary\n",
    "\n",
    "import matplotlib.pyplot as plt\n",
    "import matplotlib.cm as cm\n",
    "import numpy as np\n",
    "from sklearn.datasets import fetch_openml\n",
    "\n",
    "rand_state = 8\n",
    "X, y = fetch_openml('mnist_784', version=1, return_X_y=True)\n",
    "print(X), print(y)\n",
    "range_n_clusters = [2,3,4,5,6,7,8,10,11,12,13,14,15]\n",
    "\n",
    "some_digit_image = X[1].reshape(28, 28)\n",
    "plt.imshow(some_digit_image, cmap=binary, interpolation=\"nearest\")\n",
    "plt.axis('off')\n",
    "plt.show()\n",
    "\n",
    "X_norm=X/255. #normalization\n",
    "\n",
    "(fig,axes) = plt.subplots(1,len(range_n_clusters))\n",
    "fig.set_size_inches(18, 10)\n",
    "current_axis = 0;\n",
    "v_score=[]\n",
    "\n",
    "for n_clusters in range_n_clusters:\n",
    "    \n",
    "    axes[current_axis].set_xlim([-0.1, 1])\n",
    "    axes[current_axis].set_ylim([0, len(X) + (n_clusters + 1) * 10])\n",
    "\n",
    "    clusterer = KMeans(n_clusters=n_clusters, random_state=rand_state)\n",
    "    cluster_labels = clusterer.fit_predict(X)\n",
    "    v_score.append(v_measure_score(y, clusterer.labels_))\n",
    "\n",
    "    silhouette_avg = silhouette_score(X, cluster_labels)\n",
    "    print(\"For n_clusters =\", n_clusters,\n",
    "          \"The average silhouette_score is :\", silhouette_avg)\n",
    "    \n",
    "    sample_silhouette_values = silhouette_samples(X, cluster_labels)\n",
    "\n",
    "    y_lower = 10\n",
    "    for i in range(n_clusters):\n",
    "        # Aggregate the silhouette scores for samples belonging to\n",
    "        # cluster i, and sort them\n",
    "        ith_cluster_silhouette_values = \\\n",
    "            sample_silhouette_values[cluster_labels == i]\n",
    "\n",
    "        ith_cluster_silhouette_values.sort()\n",
    "\n",
    "        size_cluster_i = ith_cluster_silhouette_values.shape[0]\n",
    "        y_upper = y_lower + size_cluster_i\n",
    "\n",
    "        color = cm.nipy_spectral(float(i) / n_clusters)\n",
    "        axes[current_axis].fill_betweenx(np.arange(y_lower, y_upper),\n",
    "                          0, ith_cluster_silhouette_values,\n",
    "                          facecolor=color, edgecolor=color, alpha=0.7)\n",
    "\n",
    "        # Label the silhouette plots with their cluster numbers at the middle\n",
    "        axes[current_axis].text(-0.05, y_lower + 0.5 * size_cluster_i, str(i))\n",
    "\n",
    "        # Compute the new y_lower for next plot\n",
    "        y_lower = y_upper + 10  # 10 for the 0 samples\n",
    "\n",
    "    axes[current_axis].set_title(\"Silhouette plot for %d clusters\"%n_clusters)\n",
    "    axes[current_axis].set_xlabel(\"Silhouette coefficient values\")\n",
    "    axes[current_axis].set_ylabel(\"Cluster label\")\n",
    "\n",
    "    # The vertical line for average silhouette score of all the values\n",
    "    axes[current_axis].axvline(x=silhouette_avg, color=\"red\", linestyle=\"--\")\n",
    "    axes[current_axis].set_yticks([])\n",
    "    axes[current_axis].set_xticks([-0.1, 0, 0.2, 0.4, 0.6, 0.8, 1])\n",
    "    current_axis = current_axis+1\n",
    "    plt.suptitle(\"Silhouette analysis for KMeans clustering on sample data\",\n",
    "                 fontsize=14, fontweight='bold')\n",
    "    \n",
    "print(\"Clusters\")\n",
    "print(dict(zip(range(6,12),v_score)))\n",
    "plt.plot(range_n_clusters,v_score,'-ob')\n"
   ]
  },
  {
   "cell_type": "markdown",
   "metadata": {
    "colab_type": "text",
    "id": "lOdRPdZZIZFf"
   },
   "source": [
    "Din analiza de mai sus tragem conluzia ca datele de mai sus contin 8 clusteri, deoacere pt 8 clusteri avem cea mai mare valoare pentru \"v_measure_score\" si anume 8: 0.506, dar deasemenea si valoarea de 11 clusteri are o valoare destul de mare(11: 0.502) "
   ]
  }
 ],
 "metadata": {
  "colab": {
   "collapsed_sections": [],
   "name": "Luca_Petronela_Partial_2_practica_Amazon.ipynb",
   "provenance": []
  },
  "kernelspec": {
   "display_name": "Python 3",
   "language": "python",
   "name": "python3"
  },
  "language_info": {
   "codemirror_mode": {
    "name": "ipython",
    "version": 3
   },
   "file_extension": ".py",
   "mimetype": "text/x-python",
   "name": "python",
   "nbconvert_exporter": "python",
   "pygments_lexer": "ipython3",
   "version": "3.7.4"
  }
 },
 "nbformat": 4,
 "nbformat_minor": 1
}
