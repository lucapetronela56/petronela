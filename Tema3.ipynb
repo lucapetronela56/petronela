{
 "cells": [
  {
   "cell_type": "markdown",
   "metadata": {},
   "source": [
    "# Basic Statistics"
   ]
  },
  {
   "cell_type": "code",
   "execution_count": 1,
   "metadata": {},
   "outputs": [],
   "source": [
    "#Incercati experimentul aruncarii unei monede.\n",
    "import numpy as np\n",
    "import pandas as pd\n",
    "import scipy\n",
    "import matplotlib.pyplot as plt\n",
    "import math as m\n",
    "import scipy.stats as stats"
   ]
  },
  {
   "cell_type": "code",
   "execution_count": 2,
   "metadata": {},
   "outputs": [],
   "source": [
    "from sklearn.preprocessing import scale\n",
    "import sklearn.linear_model as skl_lm\n",
    "from sklearn.metrics import mean_squared_error, r2_score\n",
    "import statsmodels.api as sm\n",
    "import statsmodels.formula.api as smf\n",
    "import scipy.stats as spst\n",
    "\n",
    "import seaborn as sns"
   ]
  },
  {
   "cell_type": "code",
   "execution_count": 3,
   "metadata": {},
   "outputs": [
    {
     "name": "stdout",
     "output_type": "stream",
     "text": [
      "Heads:  3 0.6\n",
      "Tails:  2 0.4\n",
      "1.0\n"
     ]
    }
   ],
   "source": [
    "#%pylab inline\n",
    "#pylab.rcParams['figure.figsize'] = (14, 6)\n",
    "\n",
    "np.random.seed(123)\n",
    "#5 aruncari\n",
    "draws = 5 \n",
    "coin_sample = np.random.binomial(1, 0.5, draws) \n",
    "coin_average = [coin_sample[:jj].mean() for jj in range(1, draws)]\n",
    "\n",
    "heads = np.sum(coin_sample[coin_sample==1])\n",
    "tails = draws-heads\n",
    "print('Heads: ', heads, heads/draws)\n",
    "print('Tails: ', tails, tails/draws)\n",
    "print(stats.binom_test(x=[heads, tails], p=0.5, alternative='two-sided'))"
   ]
  },
  {
   "cell_type": "code",
   "execution_count": null,
   "metadata": {},
   "outputs": [],
   "source": []
  },
  {
   "cell_type": "code",
   "execution_count": 4,
   "metadata": {},
   "outputs": [
    {
     "name": "stdout",
     "output_type": "stream",
     "text": [
      "Heads:  3 0.3\n",
      "Tails:  7 0.7\n",
      "0.3437499999999999\n"
     ]
    }
   ],
   "source": [
    "#10 aruncari\n",
    "draws = 10\n",
    "coin_sample = np.random.binomial(1, 0.5, draws)\n",
    "coin_average = [coin_sample[:jj].mean() for jj in range(1, draws)]\n",
    "heads = np.sum(coin_sample[coin_sample==1])\n",
    "tails = draws-heads\n",
    "print('Heads: ', heads, heads/draws)\n",
    "print('Tails: ', tails, tails/draws)\n",
    "print(stats.binom_test(x=[heads, tails], p=0.5, alternative='two-sided'))"
   ]
  },
  {
   "cell_type": "code",
   "execution_count": null,
   "metadata": {},
   "outputs": [],
   "source": []
  },
  {
   "cell_type": "code",
   "execution_count": 4,
   "metadata": {},
   "outputs": [
    {
     "name": "stdout",
     "output_type": "stream",
     "text": [
      "Heads:  12 0.4\n",
      "Tails:  18 0.6\n",
      "0.361594608053565\n"
     ]
    }
   ],
   "source": [
    "#30 aruncari\n",
    "draws = 30\n",
    "coin_sample = np.random.binomial(1, 0.5, draws)\n",
    "coin_average = [coin_sample[:jj].mean() for jj in range(1, draws)]\n",
    "heads = np.sum(coin_sample[coin_sample==1])\n",
    "tails = draws-heads\n",
    "print('Heads: ', heads, heads/draws)\n",
    "print('Tails: ', tails, tails/draws)\n",
    "print(stats.binom_test(x=[heads, tails], p=0.5, alternative='two-sided'))"
   ]
  },
  {
   "cell_type": "markdown",
   "metadata": {},
   "source": [
    "# Linear Regression"
   ]
  },
  {
   "cell_type": "code",
   "execution_count": 8,
   "metadata": {},
   "outputs": [],
   "source": [
    "#verificati daca exista vre-o corelatie intre inaltimea fetelor sau baietilor in raport cu mamele lor.\n",
    "#1. Masurati coeficientul de corelatie dintre aceste variabile\n",
    "#2. Comentati aceste rezultate in comparatie cu cele obtinute pentru parintii de sex masculin si copii lor\n",
    "\n"
   ]
  },
  {
   "cell_type": "code",
   "execution_count": 5,
   "metadata": {},
   "outputs": [
    {
     "name": "stdout",
     "output_type": "stream",
     "text": [
      "   child  parent  frequency  gp     par  chl\n",
      "0   59.5    62.5       0.50  fs  Father  Son\n",
      "1   59.5    63.5       0.50  fs  Father  Son\n",
      "2   59.5    64.5       1.00  fs  Father  Son\n",
      "3   60.5    62.5       0.50  fs  Father  Son\n",
      "4   60.5    66.5       1.00  fs  Father  Son\n",
      "5   61.5    59.5       0.25  fs  Father  Son\n",
      "6   61.5    60.5       0.25  fs  Father  Son\n",
      "7   61.5    62.5       0.50  fs  Father  Son\n",
      "8   61.5    63.5       1.00  fs  Father  Son\n",
      "9   61.5    64.5       0.25  fs  Father  Son\n"
     ]
    },
    {
     "data": {
      "image/png": "[encoded data removed]",
      "text/plain": [
       "<Figure size 432x288 with 1 Axes>"
      ]
     },
     "metadata": {
      "needs_background": "light"
     },
     "output_type": "display_data"
    },
    {
     "name": "stdout",
     "output_type": "stream",
     "text": [
      "(0.484917684251786, 9.100362271637111e-12)\n",
      "(0.4674367713012403, 1.9747722235598635e-11)\n"
     ]
    }
   ],
   "source": [
    "pearson = pd.read_csv('pearson.csv')\n",
    "print(pearson.head(10))\n",
    "#salvam din pearson doar datele care au pe coloana GP, numai ms( Mother-son)\n",
    "fs = pearson[pearson['gp']=='ms']\n",
    "#salvam din pearson doar datele care au pe coloana GP, numai md( Mother-doughter)\n",
    "fd = pearson[pearson['gp']=='md']\n",
    "#facem un plot, pe x punem fs coloana child(inaltimea copilului), pe y punem coloana parent\n",
    "plt.scatter(\n",
    "    fs['child'] + np.random.normal(scale=0.2, size=fs.shape[0]),\n",
    "    fs['parent'] + np.random.normal(scale=0.2, size=fs.shape[0]), c='r')\n",
    "plt.scatter(\n",
    "    fd['child'] + np.random.normal(scale=0.2, size=fd.shape[0]),\n",
    "    fd['parent'] + np.random.normal(scale=0.2, size=fd.shape[0]), c='b')\n",
    "plt.show()\n",
    "#corelatie dintre fs parent-child\n",
    "print(stats.pearsonr(fs['parent'], fs['child']))\n",
    "#corelatie dintre fd parent-child\n",
    "print(stats.pearsonr(fd['parent'], fd['child']))"
   ]
  },
  {
   "cell_type": "code",
   "execution_count": 10,
   "metadata": {},
   "outputs": [
    {
     "name": "stdout",
     "output_type": "stream",
     "text": [
      "   child  parent  frequency  gp     par  chl\n",
      "0   59.5    62.5       0.50  fs  Father  Son\n",
      "1   59.5    63.5       0.50  fs  Father  Son\n",
      "2   59.5    64.5       1.00  fs  Father  Son\n",
      "3   60.5    62.5       0.50  fs  Father  Son\n",
      "4   60.5    66.5       1.00  fs  Father  Son\n",
      "5   61.5    59.5       0.25  fs  Father  Son\n",
      "6   61.5    60.5       0.25  fs  Father  Son\n",
      "7   61.5    62.5       0.50  fs  Father  Son\n",
      "8   61.5    63.5       1.00  fs  Father  Son\n",
      "9   61.5    64.5       0.25  fs  Father  Son\n"
     ]
    },
    {
     "data": {
      "image/png": "[encoded data removed]",
      "text/plain": [
       "<Figure size 432x288 with 1 Axes>"
      ]
     },
     "metadata": {
      "needs_background": "light"
     },
     "output_type": "display_data"
    },
    {
     "name": "stdout",
     "output_type": "stream",
     "text": [
      "(0.5206723830914775, 7.954369816601039e-14)\n",
      "(0.4720530065221036, 7.905672025207683e-13)\n"
     ]
    }
   ],
   "source": [
    "pearson = pd.read_csv('pearson.csv')\n",
    "print(pearson.head(10))\n",
    "#salvam din pearson doar datele care au pe coloana GP, numai ms( father-son)\n",
    "fs = pearson[pearson['gp']=='fs']\n",
    "#salvam din pearson doar datele care au pe coloana GP, numai md( father-daughter)\n",
    "fd = pearson[pearson['gp']=='fd']\n",
    "plt.scatter(\n",
    "    fs['child'] + np.random.normal(scale=0.2, size=fs.shape[0]),\n",
    "    fs['parent'] + np.random.normal(scale=0.2, size=fs.shape[0]), c='r')\n",
    "plt.scatter(\n",
    "    fd['child'] + np.random.normal(scale=0.2, size=fd.shape[0]),\n",
    "    fd['parent'] + np.random.normal(scale=0.2, size=fd.shape[0]), c='b')\n",
    "plt.show()\n",
    "print(stats.pearsonr(fs['parent'], fs['child']))\n",
    "print(stats.pearsonr(fd['parent'], fd['child']))\n"
   ]
  },
  {
   "cell_type": "code",
   "execution_count": 7,
   "metadata": {},
   "outputs": [
    {
     "name": "stdout",
     "output_type": "stream",
     "text": [
      "Lecture-LinearRegression\n",
      "    Income  Limit  Rating  Cards  Age  Education  Gender Student Married  \\\n",
      "0   14.891   3606     283      2   34         11    Male      No     Yes   \n",
      "1  106.025   6645     483      3   82         15  Female     Yes     Yes   \n",
      "2  104.593   7075     514      4   71         11    Male      No      No   \n",
      "3  148.924   9504     681      3   36         11  Female      No      No   \n",
      "4   55.882   4897     357      2   68         16    Male      No     Yes   \n",
      "5   80.180   8047     569      4   77         10    Male      No      No   \n",
      "6   20.996   3388     259      2   37         12  Female      No      No   \n",
      "7   71.408   7114     512      2   87          9    Male      No      No   \n",
      "8   15.125   3300     266      5   66         13  Female      No      No   \n",
      "9   71.061   6819     491      3   41         19  Female     Yes     Yes   \n",
      "\n",
      "          Ethnicity  Balance  \n",
      "0         Caucasian      333  \n",
      "1             Asian      903  \n",
      "2             Asian      580  \n",
      "3             Asian      964  \n",
      "4         Caucasian      331  \n",
      "5         Caucasian     1151  \n",
      "6  African American      203  \n",
      "7             Asian      872  \n",
      "8         Caucasian      279  \n",
      "9  African American     1350  \n",
      "                            OLS Regression Results                            \n",
      "==============================================================================\n",
      "Dep. Variable:                Balance   R-squared:                       0.000\n",
      "Model:                            OLS   Adj. R-squared:                 -0.005\n",
      "Method:                 Least Squares   F-statistic:                   0.04344\n",
      "Date:                Thu, 14 Nov 2019   Prob (F-statistic):              0.957\n",
      "Time:                        13:22:13   Log-Likelihood:                -3019.3\n",
      "No. Observations:                 400   AIC:                             6045.\n",
      "Df Residuals:                     397   BIC:                             6057.\n",
      "Df Model:                           2                                         \n",
      "Covariance Type:            nonrobust                                         \n",
      "==========================================================================================\n",
      "                             coef    std err          t      P>|t|      [0.025      0.975]\n",
      "------------------------------------------------------------------------------------------\n",
      "Intercept                531.0000     46.319     11.464      0.000     439.939     622.061\n",
      "Ethnicity[T.Asian]       -18.6863     65.021     -0.287      0.774    -146.515     109.142\n",
      "Ethnicity[T.Caucasian]   -12.5025     56.681     -0.221      0.826    -123.935      98.930\n",
      "==============================================================================\n",
      "Omnibus:                       28.829   Durbin-Watson:                   1.946\n",
      "Prob(Omnibus):                  0.000   Jarque-Bera (JB):               27.395\n",
      "Skew:                           0.581   Prob(JB):                     1.13e-06\n",
      "Kurtosis:                       2.460   Cond. No.                         4.39\n",
      "==============================================================================\n",
      "\n",
      "Warnings:\n",
      "[1] Standard Errors assume that the covariance matrix of the errors is correctly specified.\n"
     ]
    }
   ],
   "source": [
    "###Lecture-LinearRegression\n",
    "print(\"Lecture-LinearRegression\")\n",
    "credit = pd.read_csv('credit.csv')\n",
    "print(credit.head(10))\n",
    "#1\n",
    "print(smf.ols('Balance~Ethnicity', data=credit).fit().summary())\n",
    "\n",
    "\n",
    "\n"
   ]
  },
  {
   "cell_type": "code",
   "execution_count": 8,
   "metadata": {},
   "outputs": [
    {
     "name": "stdout",
     "output_type": "stream",
     "text": [
      "                            OLS Regression Results                            \n",
      "==============================================================================\n",
      "Dep. Variable:                Balance   R-squared:                       0.000\n",
      "Model:                            OLS   Adj. R-squared:                 -0.002\n",
      "Method:                 Least Squares   F-statistic:                   0.01281\n",
      "Date:                Thu, 14 Nov 2019   Prob (F-statistic):              0.910\n",
      "Time:                        13:22:34   Log-Likelihood:                -3019.3\n",
      "No. Observations:                 400   AIC:                             6043.\n",
      "Df Residuals:                     398   BIC:                             6051.\n",
      "Df Model:                           1                                         \n",
      "Covariance Type:            nonrobust                                         \n",
      "==================================================================================\n",
      "                     coef    std err          t      P>|t|      [0.025      0.975]\n",
      "----------------------------------------------------------------------------------\n",
      "Intercept        523.2903     36.974     14.153      0.000     450.601     595.980\n",
      "Married[T.Yes]    -5.3475     47.244     -0.113      0.910     -98.227      87.532\n",
      "==============================================================================\n",
      "Omnibus:                       28.640   Durbin-Watson:                   1.945\n",
      "Prob(Omnibus):                  0.000   Jarque-Bera (JB):               27.347\n",
      "Skew:                           0.582   Prob(JB):                     1.15e-06\n",
      "Kurtosis:                       2.464   Cond. No.                         2.97\n",
      "==============================================================================\n",
      "\n",
      "Warnings:\n",
      "[1] Standard Errors assume that the covariance matrix of the errors is correctly specified.\n"
     ]
    }
   ],
   "source": [
    "print(smf.ols('Balance~Married', data=credit).fit().summary())\n"
   ]
  },
  {
   "cell_type": "code",
   "execution_count": 13,
   "metadata": {},
   "outputs": [
    {
     "name": "stdout",
     "output_type": "stream",
     "text": [
      "                            OLS Regression Results                            \n",
      "==============================================================================\n",
      "Dep. Variable:                Balance   R-squared:                       0.953\n",
      "Model:                            OLS   Adj. R-squared:                  0.952\n",
      "Method:                 Least Squares   F-statistic:                     1123.\n",
      "Date:                Thu, 14 Nov 2019   Prob (F-statistic):          5.94e-255\n",
      "Time:                        10:07:39   Log-Likelihood:                -2409.9\n",
      "No. Observations:                 400   AIC:                             4836.\n",
      "Df Residuals:                     392   BIC:                             4868.\n",
      "Df Model:                           7                                         \n",
      "Covariance Type:            nonrobust                                         \n",
      "==========================================================================================\n",
      "                             coef    std err          t      P>|t|      [0.025      0.975]\n",
      "------------------------------------------------------------------------------------------\n",
      "Intercept               -523.9467     22.501    -23.285      0.000    -568.185    -479.708\n",
      "Student[T.Yes]           420.5586     16.972     24.779      0.000     387.191     453.926\n",
      "Married[T.Yes]           -10.3131     10.525     -0.980      0.328     -31.005      10.379\n",
      "Ethnicity[T.Asian]        20.5549     14.405      1.427      0.154      -7.766      48.876\n",
      "Ethnicity[T.Caucasian]    11.1321     12.480      0.892      0.373     -13.405      35.669\n",
      "Income                    -7.9389      0.236    -33.686      0.000      -8.402      -7.476\n",
      "Limit                      0.1182      0.028      4.222      0.000       0.063       0.173\n",
      "Rating                     2.2450      0.417      5.384      0.000       1.425       3.065\n",
      "==============================================================================\n",
      "Omnibus:                       25.718   Durbin-Watson:                   1.921\n",
      "Prob(Omnibus):                  0.000   Jarque-Bera (JB):               29.428\n",
      "Skew:                           0.664   Prob(JB):                     4.07e-07\n",
      "Kurtosis:                       3.019   Cond. No.                     2.53e+04\n",
      "==============================================================================\n",
      "\n",
      "Warnings:\n",
      "[1] Standard Errors assume that the covariance matrix of the errors is correctly specified.\n",
      "[2] The condition number is large, 2.53e+04. This might indicate that there are\n",
      "strong multicollinearity or other numerical problems.\n"
     ]
    }
   ],
   "source": [
    "#2\n",
    "print(smf.ols('Balance~Income+Limit+Rating+Student+Married+Ethnicity', data=credit).fit().summary())"
   ]
  },
  {
   "cell_type": "code",
   "execution_count": 9,
   "metadata": {},
   "outputs": [
    {
     "name": "stdout",
     "output_type": "stream",
     "text": [
      "                            OLS Regression Results                            \n",
      "==============================================================================\n",
      "Dep. Variable:                Balance   R-squared:                       0.067\n",
      "Model:                            OLS   Adj. R-squared:                  0.065\n",
      "Method:                 Least Squares   F-statistic:                     28.62\n",
      "Date:                Thu, 14 Nov 2019   Prob (F-statistic):           1.49e-07\n",
      "Time:                        13:22:50   Log-Likelihood:                -3005.5\n",
      "No. Observations:                 400   AIC:                             6015.\n",
      "Df Residuals:                     398   BIC:                             6023.\n",
      "Df Model:                           1                                         \n",
      "Covariance Type:            nonrobust                                         \n",
      "==================================================================================\n",
      "                     coef    std err          t      P>|t|      [0.025      0.975]\n",
      "----------------------------------------------------------------------------------\n",
      "Intercept        480.3694     23.434     20.499      0.000     434.300     526.439\n",
      "Student[T.Yes]   396.4556     74.104      5.350      0.000     250.771     542.140\n",
      "==============================================================================\n",
      "Omnibus:                       20.866   Durbin-Watson:                   1.950\n",
      "Prob(Omnibus):                  0.000   Jarque-Bera (JB):               21.920\n",
      "Skew:                           0.544   Prob(JB):                     1.74e-05\n",
      "Kurtosis:                       2.637   Cond. No.                         3.37\n",
      "==============================================================================\n",
      "\n",
      "Warnings:\n",
      "[1] Standard Errors assume that the covariance matrix of the errors is correctly specified.\n"
     ]
    }
   ],
   "source": [
    "print(smf.ols('Balance~Student', data=credit).fit().summary())\n"
   ]
  },
  {
   "cell_type": "code",
   "execution_count": 11,
   "metadata": {},
   "outputs": [
    {
     "name": "stdout",
     "output_type": "stream",
     "text": [
      "                            OLS Regression Results                            \n",
      "==============================================================================\n",
      "Dep. Variable:                Balance   R-squared:                       0.746\n",
      "Model:                            OLS   Adj. R-squared:                  0.745\n",
      "Method:                 Least Squares   F-statistic:                     1168.\n",
      "Date:                Thu, 14 Nov 2019   Prob (F-statistic):          1.90e-120\n",
      "Time:                        13:23:43   Log-Likelihood:                -2745.4\n",
      "No. Observations:                 400   AIC:                             5495.\n",
      "Df Residuals:                     398   BIC:                             5503.\n",
      "Df Model:                           1                                         \n",
      "Covariance Type:            nonrobust                                         \n",
      "==============================================================================\n",
      "                 coef    std err          t      P>|t|      [0.025      0.975]\n",
      "------------------------------------------------------------------------------\n",
      "Intercept   -390.8463     29.069    -13.446      0.000    -447.993    -333.699\n",
      "Rating         2.5662      0.075     34.176      0.000       2.419       2.714\n",
      "==============================================================================\n",
      "Omnibus:                       23.223   Durbin-Watson:                   1.966\n",
      "Prob(Omnibus):                  0.000   Jarque-Bera (JB):               38.802\n",
      "Skew:                           0.390   Prob(JB):                     3.75e-09\n",
      "Kurtosis:                       4.311   Cond. No.                         970.\n",
      "==============================================================================\n",
      "\n",
      "Warnings:\n",
      "[1] Standard Errors assume that the covariance matrix of the errors is correctly specified.\n"
     ]
    }
   ],
   "source": [
    "print(smf.ols('Balance~Rating', data=credit).fit().summary())\n"
   ]
  },
  {
   "cell_type": "code",
   "execution_count": 12,
   "metadata": {},
   "outputs": [
    {
     "name": "stdout",
     "output_type": "stream",
     "text": [
      "                            OLS Regression Results                            \n",
      "==============================================================================\n",
      "Dep. Variable:                Balance   R-squared:                       0.743\n",
      "Model:                            OLS   Adj. R-squared:                  0.742\n",
      "Method:                 Least Squares   F-statistic:                     1148.\n",
      "Date:                Thu, 14 Nov 2019   Prob (F-statistic):          2.53e-119\n",
      "Time:                        13:23:59   Log-Likelihood:                -2748.0\n",
      "No. Observations:                 400   AIC:                             5500.\n",
      "Df Residuals:                     398   BIC:                             5508.\n",
      "Df Model:                           1                                         \n",
      "Covariance Type:            nonrobust                                         \n",
      "==============================================================================\n",
      "                 coef    std err          t      P>|t|      [0.025      0.975]\n",
      "------------------------------------------------------------------------------\n",
      "Intercept   -292.7905     26.683    -10.973      0.000    -345.249    -240.332\n",
      "Limit          0.1716      0.005     33.879      0.000       0.162       0.182\n",
      "==============================================================================\n",
      "Omnibus:                       22.506   Durbin-Watson:                   1.953\n",
      "Prob(Omnibus):                  0.000   Jarque-Bera (JB):               33.676\n",
      "Skew:                           0.418   Prob(JB):                     4.87e-08\n",
      "Kurtosis:                       4.150   Cond. No.                     1.20e+04\n",
      "==============================================================================\n",
      "\n",
      "Warnings:\n",
      "[1] Standard Errors assume that the covariance matrix of the errors is correctly specified.\n",
      "[2] The condition number is large, 1.2e+04. This might indicate that there are\n",
      "strong multicollinearity or other numerical problems.\n"
     ]
    }
   ],
   "source": [
    "print(smf.ols('Balance~Limit', data=credit).fit().summary())\n"
   ]
  },
  {
   "cell_type": "code",
   "execution_count": 13,
   "metadata": {},
   "outputs": [
    {
     "name": "stdout",
     "output_type": "stream",
     "text": [
      "                            OLS Regression Results                            \n",
      "==============================================================================\n",
      "Dep. Variable:                Balance   R-squared:                       0.215\n",
      "Model:                            OLS   Adj. R-squared:                  0.213\n",
      "Method:                 Least Squares   F-statistic:                     109.0\n",
      "Date:                Thu, 14 Nov 2019   Prob (F-statistic):           1.03e-22\n",
      "Time:                        13:24:09   Log-Likelihood:                -2970.9\n",
      "No. Observations:                 400   AIC:                             5946.\n",
      "Df Residuals:                     398   BIC:                             5954.\n",
      "Df Model:                           1                                         \n",
      "Covariance Type:            nonrobust                                         \n",
      "==============================================================================\n",
      "                 coef    std err          t      P>|t|      [0.025      0.975]\n",
      "------------------------------------------------------------------------------\n",
      "Intercept    246.5148     33.199      7.425      0.000     181.247     311.783\n",
      "Income         6.0484      0.579     10.440      0.000       4.909       7.187\n",
      "==============================================================================\n",
      "Omnibus:                       42.505   Durbin-Watson:                   1.951\n",
      "Prob(Omnibus):                  0.000   Jarque-Bera (JB):               20.975\n",
      "Skew:                           0.384   Prob(JB):                     2.79e-05\n",
      "Kurtosis:                       2.182   Cond. No.                         93.3\n",
      "==============================================================================\n",
      "\n",
      "Warnings:\n",
      "[1] Standard Errors assume that the covariance matrix of the errors is correctly specified.\n"
     ]
    }
   ],
   "source": [
    "print(smf.ols('Balance~Income', data=credit).fit().summary())"
   ]
  },
  {
   "cell_type": "code",
   "execution_count": 10,
   "metadata": {},
   "outputs": [
    {
     "name": "stdout",
     "output_type": "stream",
     "text": [
      "                            OLS Regression Results                            \n",
      "==============================================================================\n",
      "Dep. Variable:                Balance   R-squared:                       0.876\n",
      "Model:                            OLS   Adj. R-squared:                  0.875\n",
      "Method:                 Least Squares   F-statistic:                     934.6\n",
      "Date:                Thu, 14 Nov 2019   Prob (F-statistic):          3.20e-179\n",
      "Time:                        13:23:24   Log-Likelihood:                -2601.5\n",
      "No. Observations:                 400   AIC:                             5211.\n",
      "Df Residuals:                     396   BIC:                             5227.\n",
      "Df Model:                           3                                         \n",
      "Covariance Type:            nonrobust                                         \n",
      "==============================================================================\n",
      "                 coef    std err          t      P>|t|      [0.025      0.975]\n",
      "------------------------------------------------------------------------------\n",
      "Intercept   -489.7275     32.099    -15.257      0.000    -552.833    -426.622\n",
      "Income        -7.7193      0.378    -20.418      0.000      -8.463      -6.976\n",
      "Limit          0.0847      0.045      1.894      0.059      -0.003       0.173\n",
      "Rating         2.6986      0.666      4.052      0.000       1.389       4.008\n",
      "==============================================================================\n",
      "Omnibus:                       95.253   Durbin-Watson:                   1.905\n",
      "Prob(Omnibus):                  0.000   Jarque-Bera (JB):              168.312\n",
      "Skew:                           1.373   Prob(JB):                     2.83e-37\n",
      "Kurtosis:                       4.601   Cond. No.                     2.09e+04\n",
      "==============================================================================\n",
      "\n",
      "Warnings:\n",
      "[1] Standard Errors assume that the covariance matrix of the errors is correctly specified.\n",
      "[2] The condition number is large, 2.09e+04. This might indicate that there are\n",
      "strong multicollinearity or other numerical problems.\n"
     ]
    }
   ],
   "source": [
    "#3\n",
    "print(smf.ols('Balance~Income+Limit+Rating', data=credit).fit().summary())"
   ]
  },
  {
   "cell_type": "code",
   "execution_count": null,
   "metadata": {},
   "outputs": [],
   "source": []
  },
  {
   "cell_type": "code",
   "execution_count": null,
   "metadata": {},
   "outputs": [],
   "source": []
  }
 ],
 "metadata": {
  "kernelspec": {
   "display_name": "Python 3",
   "language": "python",
   "name": "python3"
  },
  "language_info": {
   "codemirror_mode": {
    "name": "ipython",
    "version": 3
   },
   "file_extension": ".py",
   "mimetype": "text/x-python",
   "name": "python",
   "nbconvert_exporter": "python",
   "pygments_lexer": "ipython3",
   "version": "3.7.4"
  }
 },
 "nbformat": 4,
 "nbformat_minor": 2
}
